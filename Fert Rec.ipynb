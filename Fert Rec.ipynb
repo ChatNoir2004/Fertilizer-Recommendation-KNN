{
 "cells": [
  {
   "cell_type": "code",
   "execution_count": 2,
   "id": "f4b2c5bc-1133-4a09-8631-bdb3e225e641",
   "metadata": {},
   "outputs": [
    {
     "name": "stdout",
     "output_type": "stream",
     "text": [
      "   Nitrogen  Potassium  Phosphorous                Fertilizer Name\n",
      "0        37          0            0                           Urea\n",
      "1        12          0           36                            DAP\n",
      "2         7          9           30  Fourteen-Thirty Five-Fourteen\n",
      "3        22          0           20      Twenty Eight-Twenty Eight\n",
      "4        35          0            0                           Urea\n",
      "<class 'pandas.core.frame.DataFrame'>\n",
      "RangeIndex: 99 entries, 0 to 98\n",
      "Data columns (total 4 columns):\n",
      " #   Column           Non-Null Count  Dtype \n",
      "---  ------           --------------  ----- \n",
      " 0   Nitrogen         99 non-null     int64 \n",
      " 1   Potassium        99 non-null     int64 \n",
      " 2   Phosphorous      99 non-null     int64 \n",
      " 3   Fertilizer Name  99 non-null     object\n",
      "dtypes: int64(3), object(1)\n",
      "memory usage: 3.2+ KB\n",
      "None\n",
      "Nitrogen           0\n",
      "Potassium          0\n",
      "Phosphorous        0\n",
      "Fertilizer Name    0\n",
      "dtype: int64\n"
     ]
    }
   ],
   "source": [
    "import numpy as np\n",
    "import pandas as pd\n",
    "import pickle\n",
    "\n",
    "# Load the dataset\n",
    "df = pd.read_csv('Fertilizer.csv')\n",
    "\n",
    "# Display basic information about the dataset\n",
    "print(df.head())\n",
    "print(df.info())\n",
    "\n",
    "# Check for missing values\n",
    "print(df.isnull().sum())\n",
    "\n",
    "# Split the data into features and target\n",
    "x = df[['Nitrogen', 'Phosphorous', 'Potassium']].values\n",
    "y = df['Fertilizer Name'].values  # Assuming 'Fertilizer_Type' is the target column\n",
    "\n",
    "# Encode target labels\n",
    "unique_labels, y_encoded = np.unique(y, return_inverse=True)"
   ]
  },
  {
   "cell_type": "code",
   "execution_count": 3,
   "id": "d131c010-49bf-44f5-993b-887b0a90448f",
   "metadata": {},
   "outputs": [],
   "source": [
    "class KNNModel:\n",
    "    def __init__(self, k=3):\n",
    "        self.k = k\n",
    "\n",
    "    def fit(self, x_train, y_train):\n",
    "        self.x_train = x_train\n",
    "        self.y_train = y_train\n",
    "\n",
    "    def euclidean_distance(self, a, b):\n",
    "        return np.sqrt(np.sum((a - b) ** 2))\n",
    "\n",
    "    def predict(self, x_test):\n",
    "        predictions = []\n",
    "        for test_point in x_test:\n",
    "            distances = np.array([self.euclidean_distance(test_point, train_point) for train_point in self.x_train])\n",
    "            nearest_indices = np.argsort(distances)[:self.k]\n",
    "            nearest_labels = self.y_train[nearest_indices]\n",
    "            unique, counts = np.unique(nearest_labels, return_counts=True)\n",
    "            predicted_label = unique[np.argmax(counts)]\n",
    "            predictions.append(predicted_label)\n",
    "        return np.array(predictions)\n"
   ]
  },
  {
   "cell_type": "code",
   "execution_count": 4,
   "id": "4734f48a-dc27-45eb-83e6-d06fa137838a",
   "metadata": {},
   "outputs": [],
   "source": [
    "# Split the data into training and testing sets\n",
    "def train_test_split(x, y, test_size=0.25, random_state=None):\n",
    "    if random_state:\n",
    "        np.random.seed(random_state)\n",
    "    indices = np.arange(x.shape[0])\n",
    "    np.random.shuffle(indices)\n",
    "    \n",
    "    test_set_size = int(x.shape[0] * test_size)\n",
    "    test_indices = indices[:test_set_size]\n",
    "    train_indices = indices[test_set_size:]\n",
    "    \n",
    "    x_train, x_test = x[train_indices], x[test_indices]\n",
    "    y_train, y_test = y[train_indices], y[test_indices]\n",
    "    \n",
    "    return x_train, x_test, y_train, y_test\n",
    "\n",
    "# Create training and testing sets\n",
    "x_train, x_test, y_train, y_test = train_test_split(x, y_encoded, test_size=0.25, random_state=1)\n",
    "\n",
    "# Initialize and train the model\n",
    "knn_model = KNNModel(k=3)\n",
    "knn_model.fit(x_train, y_train)\n",
    "\n",
    "# Save the model and unique labels using pickle\n",
    "pkl_filename = \"knn_fertilizer_model.pkl\"\n",
    "with open(pkl_filename, 'wb') as file:\n",
    "    pickle.dump({'model': knn_model, 'labels': unique_labels}, file)\n"
   ]
  },
  {
   "cell_type": "code",
   "execution_count": null,
   "id": "29f8b88d-75b0-4752-b368-e1bd8a7a00f8",
   "metadata": {},
   "outputs": [],
   "source": []
  },
  {
   "cell_type": "code",
   "execution_count": null,
   "id": "637c669a-5c73-44f2-869f-d49fbd83cc3e",
   "metadata": {},
   "outputs": [],
   "source": []
  }
 ],
 "metadata": {
  "kernelspec": {
   "display_name": "Python 3 (ipykernel)",
   "language": "python",
   "name": "python3"
  },
  "language_info": {
   "codemirror_mode": {
    "name": "ipython",
    "version": 3
   },
   "file_extension": ".py",
   "mimetype": "text/x-python",
   "name": "python",
   "nbconvert_exporter": "python",
   "pygments_lexer": "ipython3",
   "version": "3.12.4"
  }
 },
 "nbformat": 4,
 "nbformat_minor": 5
}
